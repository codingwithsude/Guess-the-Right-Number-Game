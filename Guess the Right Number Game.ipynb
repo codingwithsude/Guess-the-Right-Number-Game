{
 "cells": [
  {
   "cell_type": "code",
   "execution_count": 1,
   "id": "cb3d51e9",
   "metadata": {},
   "outputs": [],
   "source": [
    "import random\n",
    "import time"
   ]
  },
  {
   "cell_type": "code",
   "execution_count": 2,
   "id": "6b506694",
   "metadata": {},
   "outputs": [
    {
     "name": "stdout",
     "output_type": "stream",
     "text": [
      "Welcome to the 'Guess the Right Number Game'. Now pick a number between 1-50. You have 5 chances\n"
     ]
    }
   ],
   "source": [
    "print(\"Welcome to the 'Guess the Right Number Game'. Now pick a number between 1-50. You have 5 chances\")"
   ]
  },
  {
   "cell_type": "code",
   "execution_count": 3,
   "id": "b6a5c15b",
   "metadata": {},
   "outputs": [
    {
     "name": "stdout",
     "output_type": "stream",
     "text": [
      "Your guess is: 5\n",
      "Questioning the Answer...\n",
      "Pick a bigger number\n",
      "Your guess is: 10\n",
      "Questioning the Answer...\n",
      "Pick a bigger number\n",
      "Your guess is: 20\n",
      "Questioning the Answer..\n",
      "Pick a smaller number\n",
      "Your guess is: 15\n",
      "Questioning the Answer..\n",
      "Pick a smaller number\n",
      "Your guess is: 11\n",
      "Questioning the Answer...\n",
      "Pick a bigger number\n",
      "Your chances are over...\n",
      "The number was:  13\n"
     ]
    }
   ],
   "source": [
    "rand_number = random.randint(1,50)\n",
    "guess_chance = 5\n",
    "while True:\n",
    "    \n",
    "    guess = int(input(\"Your guess is: \"))\n",
    "    \n",
    "    if(guess < rand_number):\n",
    "        print(\"Questioning the Answer...\")\n",
    "        time.sleep(2)\n",
    "        \n",
    "        print(\"Pick a bigger number\")\n",
    "        \n",
    "        guess_chance -= 1\n",
    "    elif(guess > rand_number):\n",
    "        print(\"Questioning the Answer..\")\n",
    "        time.sleep(2)\n",
    "        \n",
    "        print(\"Pick a smaller number\")\n",
    "        \n",
    "        guess_chance -= 1\n",
    "    else:\n",
    "        print(\"Questioning the Answer...\")\n",
    "        time.sleep(2)\n",
    "        print(\"Congrats you guessed the right number, the right number is: \", rand_number)\n",
    "        break\n",
    "    if(guess_chance == 0):\n",
    "        print(\"Your chances are over...\")\n",
    "        print(\"The number was: \", rand_number)\n",
    "        break"
   ]
  },
  {
   "cell_type": "code",
   "execution_count": null,
   "id": "97bb89ab",
   "metadata": {},
   "outputs": [],
   "source": []
  }
 ],
 "metadata": {
  "kernelspec": {
   "display_name": "Python 3 (ipykernel)",
   "language": "python",
   "name": "python3"
  },
  "language_info": {
   "codemirror_mode": {
    "name": "ipython",
    "version": 3
   },
   "file_extension": ".py",
   "mimetype": "text/x-python",
   "name": "python",
   "nbconvert_exporter": "python",
   "pygments_lexer": "ipython3",
   "version": "3.9.12"
  }
 },
 "nbformat": 4,
 "nbformat_minor": 5
}
